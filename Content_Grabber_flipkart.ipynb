{
  "nbformat": 4,
  "nbformat_minor": 0,
  "metadata": {
    "colab": {
      "name": "Content Grabber flipkart.ipynb",
      "provenance": [],
      "collapsed_sections": []
    },
    "kernelspec": {
      "name": "python3",
      "display_name": "Python 3"
    },
    "accelerator": "GPU"
  },
  "cells": [
    {
      "cell_type": "markdown",
      "metadata": {
        "id": "OC03taxpmn3P",
        "colab_type": "text"
      },
      "source": [
        "Selenium is a library with which we can interact with websites. Webdriver package in selenium needs a brower driver.Here I am using chrome driver"
      ]
    },
    {
      "cell_type": "code",
      "metadata": {
        "id": "0wePBXs5t_Hn",
        "colab_type": "code",
        "colab": {
          "base_uri": "https://localhost:8080/",
          "height": 74
        },
        "outputId": "7bf1a215-6230-4224-9b24-691c1165418d"
      },
      "source": [
        "pip install selenium"
      ],
      "execution_count": 15,
      "outputs": [
        {
          "output_type": "stream",
          "text": [
            "Requirement already satisfied: selenium in /usr/local/lib/python3.6/dist-packages (3.141.0)\n",
            "Requirement already satisfied: urllib3 in /usr/local/lib/python3.6/dist-packages (from selenium) (1.24.3)\n"
          ],
          "name": "stdout"
        }
      ]
    },
    {
      "cell_type": "markdown",
      "metadata": {
        "id": "9PnHYoY-nMwC",
        "colab_type": "text"
      },
      "source": [
        "Beautifulsoup is the package to extact data from websites."
      ]
    },
    {
      "cell_type": "code",
      "metadata": {
        "id": "2SV-qtqEyBjm",
        "colab_type": "code",
        "colab": {
          "base_uri": "https://localhost:8080/",
          "height": 35
        },
        "outputId": "73d88b1a-3f3f-4096-ad2c-b75bf5f40a9f"
      },
      "source": [
        "pip install beautifulsoup4"
      ],
      "execution_count": 16,
      "outputs": [
        {
          "output_type": "stream",
          "text": [
            "Requirement already satisfied: beautifulsoup4 in /usr/local/lib/python3.6/dist-packages (4.6.3)\n"
          ],
          "name": "stdout"
        }
      ]
    },
    {
      "cell_type": "code",
      "metadata": {
        "id": "D8VskTV6yUUL",
        "colab_type": "code",
        "colab": {}
      },
      "source": [
        "from selenium import webdriver\n",
        "from bs4 import BeautifulSoup as bs\n",
        "import pandas as pd"
      ],
      "execution_count": 0,
      "outputs": []
    },
    {
      "cell_type": "code",
      "metadata": {
        "id": "t90ohlpO1FF7",
        "colab_type": "code",
        "colab": {
          "base_uri": "https://localhost:8080/",
          "height": 274
        },
        "outputId": "d0079ef9-6d93-4321-9c89-029b76ee05db"
      },
      "source": [
        "! apt-get update # to update ubuntu to correctly run apt install"
      ],
      "execution_count": 18,
      "outputs": [
        {
          "output_type": "stream",
          "text": [
            "\r0% [Working]\r            \rHit:1 http://ppa.launchpad.net/graphics-drivers/ppa/ubuntu bionic InRelease\n",
            "\r0% [Waiting for headers] [Connecting to security.ubuntu.com (91.189.91.26)] [Co\r                                                                               \rHit:2 http://archive.ubuntu.com/ubuntu bionic InRelease\n",
            "\r0% [Waiting for headers] [Connecting to security.ubuntu.com (91.189.91.26)] [Co\r                                                                               \rGet:3 http://archive.ubuntu.com/ubuntu bionic-updates InRelease [88.7 kB]\n",
            "\r0% [3 InRelease 14.2 kB/88.7 kB 16%] [Connecting to security.ubuntu.com (91.189\r0% [1 InRelease gpgv 21.3 kB] [3 InRelease 14.2 kB/88.7 kB 16%] [Connecting to \r                                                                               \rHit:4 http://ppa.launchpad.net/marutter/c2d4u3.5/ubuntu bionic InRelease\n",
            "\r0% [1 InRelease gpgv 21.3 kB] [3 InRelease 15.6 kB/88.7 kB 18%] [Connecting to \r0% [1 InRelease gpgv 21.3 kB] [Connecting to security.ubuntu.com (91.189.91.26)\r                                                                               \rGet:5 http://archive.ubuntu.com/ubuntu bionic-backports InRelease [74.6 kB]\n",
            "\r0% [1 InRelease gpgv 21.3 kB] [5 InRelease 34.5 kB/74.6 kB 46%] [Connecting to \r0% [1 InRelease gpgv 21.3 kB] [Connecting to security.ubuntu.com (91.189.91.26)\r                                                                               \rHit:6 https://cloud.r-project.org/bin/linux/ubuntu bionic-cran35/ InRelease\n",
            "\r                                                                               \r0% [1 InRelease gpgv 21.3 kB] [Waiting for headers] [Waiting for headers]\r                                                                         \rGet:7 http://security.ubuntu.com/ubuntu bionic-security InRelease [88.7 kB]\n",
            "\r0% [1 InRelease gpgv 21.3 kB] [7 InRelease 14.2 kB/88.7 kB 16%] [Waiting for he\r                                                                               \rIgn:8 https://developer.download.nvidia.com/compute/cuda/repos/ubuntu1804/x86_64  InRelease\n",
            "\r0% [1 InRelease gpgv 21.3 kB] [7 InRelease 14.2 kB/88.7 kB 16%] [Waiting for he\r                                                                               \r0% [7 InRelease 14.2 kB/88.7 kB 16%] [Waiting for headers]\r0% [2 InRelease gpgv 242 kB] [7 InRelease 14.2 kB/88.7 kB 16%] [Waiting for hea\r                                                                               \r0% [7 InRelease 75.0 kB/88.7 kB 85%] [Waiting for headers]\r0% [4 InRelease gpgv 15.4 kB] [7 InRelease 75.0 kB/88.7 kB 85%] [Waiting for he\r                                                                               \r0% [4 InRelease gpgv 15.4 kB] [Waiting for headers]\r                                                   \r0% [Waiting for headers]\r0% [3 InRelease gpgv 88.7 kB] [Waiting for headers]\r                                                   \r0% [Waiting for headers]\r0% [5 InRelease gpgv 74.6 kB] [Waiting for headers]\r                                                   \rIgn:9 https://developer.download.nvidia.com/compute/machine-learning/repos/ubuntu1804/x86_64  InRelease\n",
            "\r                                                   \r0% [5 InRelease gpgv 74.6 kB]\r                             \rHit:10 https://developer.download.nvidia.com/compute/cuda/repos/ubuntu1804/x86_64  Release\n",
            "Hit:11 https://developer.download.nvidia.com/compute/machine-learning/repos/ubuntu1804/x86_64  Release\n",
            "Fetched 252 kB in 1s (168 kB/s)\n",
            "Reading package lists... Done\n"
          ],
          "name": "stdout"
        }
      ]
    },
    {
      "cell_type": "code",
      "metadata": {
        "id": "_J-1ZLV91FBv",
        "colab_type": "code",
        "colab": {
          "base_uri": "https://localhost:8080/",
          "height": 237
        },
        "outputId": "0e83eb9e-b78c-466a-9bb7-f04995fb302c"
      },
      "source": [
        "!apt install chromium-chromedriver\n",
        "!cp /usr/lib/chromium-browser/chromedriver /usr/bin\n",
        "import sys\n",
        "sys.path.insert(0,'/usr/lib/chromium-browser/chromedriver')\n",
        "from selenium import webdriver\n",
        "chrome_options = webdriver.ChromeOptions()\n",
        "chrome_options.add_argument('--headless')\n",
        "chrome_options.add_argument('--no-sandbox')\n",
        "chrome_options.add_argument('--disable-dev-shm-usage')\n",
        "wd = webdriver.Chrome('chromedriver',chrome_options=chrome_options,)"
      ],
      "execution_count": 19,
      "outputs": [
        {
          "output_type": "stream",
          "text": [
            "Reading package lists... Done\n",
            "Building dependency tree       \n",
            "Reading state information... Done\n",
            "chromium-chromedriver is already the newest version (78.0.3904.108-0ubuntu0.18.04.1).\n",
            "The following package was automatically installed and is no longer required:\n",
            "  libnvidia-common-430\n",
            "Use 'apt autoremove' to remove it.\n",
            "0 upgraded, 0 newly installed, 0 to remove and 68 not upgraded.\n",
            "cp: '/usr/lib/chromium-browser/chromedriver' and '/usr/bin/chromedriver' are the same file\n"
          ],
          "name": "stdout"
        },
        {
          "output_type": "stream",
          "text": [
            "/usr/local/lib/python3.6/dist-packages/ipykernel_launcher.py:10: DeprecationWarning: use options instead of chrome_options\n",
            "  # Remove the CWD from sys.path while we load stuff.\n"
          ],
          "name": "stderr"
        }
      ]
    },
    {
      "cell_type": "code",
      "metadata": {
        "id": "c8FoPODj6N9d",
        "colab_type": "code",
        "colab": {}
      },
      "source": [
        "products=[] #List to store name of the product\n",
        "prices=[] #List to store price of the product\n",
        "ratings=[] #List to store rating of the product\n",
        "wd.get(\"https://www.flipkart.com/laptops/~buyback-guarantee-on-laptops-/pr?sid=6bo%2Cb5g&uniq\")"
      ],
      "execution_count": 0,
      "outputs": []
    },
    {
      "cell_type": "code",
      "metadata": {
        "id": "Pw6wwA_F8O5L",
        "colab_type": "code",
        "colab": {}
      },
      "source": [
        "content = wd.page_source\n",
        "soup = bs(content)\n",
        "for a in soup.findAll('a',href=True, attrs={'class':'_31qSD5'}):\n",
        "  name=a.find('div', attrs={'class':'_3wU53n'})\n",
        "  price=a.find('div', attrs={'class':'_1vC4OE _2rQ-NK'})\n",
        "  rating=a.find('div', attrs={'class':'hGSR34'})\n",
        "  products.append(name.text)\n",
        "  prices.append(price.text)\n",
        "  ratings.append(rating.text)"
      ],
      "execution_count": 0,
      "outputs": []
    },
    {
      "cell_type": "code",
      "metadata": {
        "id": "pZIvFAMtQkTS",
        "colab_type": "code",
        "colab": {}
      },
      "source": [
        "contents = pd.DataFrame({'Products':products,'Price':prices,'Ratings':ratings})"
      ],
      "execution_count": 0,
      "outputs": []
    },
    {
      "cell_type": "code",
      "metadata": {
        "id": "f0fuaYubSYda",
        "colab_type": "code",
        "colab": {
          "base_uri": "https://localhost:8080/",
          "height": 108
        },
        "outputId": "2bfa245e-c1ab-42c9-a568-5a11931531fa"
      },
      "source": [
        "contents.head(2)"
      ],
      "execution_count": 23,
      "outputs": [
        {
          "output_type": "execute_result",
          "data": {
            "text/html": [
              "<div>\n",
              "<style scoped>\n",
              "    .dataframe tbody tr th:only-of-type {\n",
              "        vertical-align: middle;\n",
              "    }\n",
              "\n",
              "    .dataframe tbody tr th {\n",
              "        vertical-align: top;\n",
              "    }\n",
              "\n",
              "    .dataframe thead th {\n",
              "        text-align: right;\n",
              "    }\n",
              "</style>\n",
              "<table border=\"1\" class=\"dataframe\">\n",
              "  <thead>\n",
              "    <tr style=\"text-align: right;\">\n",
              "      <th></th>\n",
              "      <th>Products</th>\n",
              "      <th>Price</th>\n",
              "      <th>Ratings</th>\n",
              "    </tr>\n",
              "  </thead>\n",
              "  <tbody>\n",
              "    <tr>\n",
              "      <th>0</th>\n",
              "      <td>Apple MacBook Air Core i5 5th Gen - (8 GB/128 ...</td>\n",
              "      <td>₹59,990</td>\n",
              "      <td>4.7</td>\n",
              "    </tr>\n",
              "    <tr>\n",
              "      <th>1</th>\n",
              "      <td>HP Core i5 7th Gen - (8 GB/1 TB HDD/Windows 10...</td>\n",
              "      <td>₹63,854</td>\n",
              "      <td>4.4</td>\n",
              "    </tr>\n",
              "  </tbody>\n",
              "</table>\n",
              "</div>"
            ],
            "text/plain": [
              "                                            Products    Price Ratings\n",
              "0  Apple MacBook Air Core i5 5th Gen - (8 GB/128 ...  ₹59,990     4.7\n",
              "1  HP Core i5 7th Gen - (8 GB/1 TB HDD/Windows 10...  ₹63,854     4.4"
            ]
          },
          "metadata": {
            "tags": []
          },
          "execution_count": 23
        }
      ]
    },
    {
      "cell_type": "markdown",
      "metadata": {
        "id": "tXxXM4fuiy3p",
        "colab_type": "text"
      },
      "source": [
        "Downloading the contents to local system"
      ]
    },
    {
      "cell_type": "code",
      "metadata": {
        "id": "gAM0xGYIi6FT",
        "colab_type": "code",
        "colab": {}
      },
      "source": [
        "from google.colab import files\n",
        "\n",
        "contents.to_csv('Flipkart_laptop.csv')\n",
        "files.download('Flipkart_laptop.csv')"
      ],
      "execution_count": 0,
      "outputs": []
    }
  ]
}